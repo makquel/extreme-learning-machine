{
 "cells": [
  {
   "cell_type": "code",
   "execution_count": 1,
   "metadata": {},
   "outputs": [],
   "source": [
    "import numpy as np\n",
    "import pandas as pd\n",
    "from sklearn.metrics import mean_squared_error\n",
    "from ELM_proto import ELM"
   ]
  },
  {
   "cell_type": "code",
   "execution_count": 3,
   "metadata": {},
   "outputs": [],
   "source": [
    "#Input datasets\n",
    "X = np.array([[0,0],[0,1],[1,0],[1,1]])\n",
    "Y = np.array([[0],[1],[1],[0]])"
   ]
  },
  {
   "cell_type": "code",
   "execution_count": 4,
   "metadata": {},
   "outputs": [
    {
     "name": "stderr",
     "output_type": "stream",
     "text": [
      "INFO:root: ELM Class constructor\n"
     ]
    },
    {
     "data": {
      "text/plain": [
       "array([[0.],\n",
       "       [1.],\n",
       "       [1.],\n",
       "       [0.]])"
      ]
     },
     "execution_count": 4,
     "metadata": {},
     "output_type": "execute_result"
    }
   ],
   "source": [
    "ELM = ELM()\n",
    "# Fixing random state for reproducibility\n",
    "np.random.seed(7)\n",
    "W_i, B_i = ELM.train(X,Y,4)\n",
    "ELM.predict(X,W_i,B_i)"
   ]
  },
  {
   "cell_type": "markdown",
   "metadata": {},
   "source": [
    "http://www.ece.utep.edu/research/webfuzzy/docs/kk-thesis/kk-thesis-html/node19.html\n",
    "https://stats.stackexchange.com/questions/181/how-to-choose-the-number-of-hidden-layers-and-nodes-in-a-feedforward-neural-netw"
   ]
  },
  {
   "cell_type": "code",
   "execution_count": 12,
   "metadata": {},
   "outputs": [
    {
     "name": "stderr",
     "output_type": "stream",
     "text": [
      "DEBUG:matplotlib.axes._base:update_title_pos\n",
      "DEBUG:matplotlib.axes._base:update_title_pos\n",
      "DEBUG:matplotlib.axes._base:update_title_pos\n",
      "DEBUG:matplotlib.axes._base:update_title_pos\n"
     ]
    },
    {
     "data": {
      "image/png": "[encoded data removed]",
      "text/plain": [
       "<Figure size 360x360 with 1 Axes>"
      ]
     },
     "metadata": {
      "needs_background": "light"
     },
     "output_type": "display_data"
    }
   ],
   "source": [
    "import matplotlib.pyplot as plt\n",
    "plt.rcParams['figure.figsize'] =5, 5\n",
    "\n",
    "\n",
    "plt.scatter([0,1], [0,1],c='red', alpha=0.75)\n",
    "plt.scatter([0,1], [1,0],c='blue', alpha=0.75)\n",
    "# Show the boundary between the regions:\n",
    "theta = np.arange(0, np.pi / 2, 0.01)\n",
    "plt.plot([0.,1.2],[.5,1.2],c='green')\n",
    "plt.plot([0.8,1.2],[0,1.1],c='green')\n",
    "plt.xlabel(r'$X_{1}$',fontsize=20)\n",
    "plt.ylabel(r'$X_{2}$',fontsize=20)\n",
    "plt.title(r'$X_{1}\\oplus X_{2}$',fontsize=20)\n",
    "# plt.legend(prop={'size': 15})\n",
    "plt.show()"
   ]
  },
  {
   "cell_type": "code",
   "execution_count": null,
   "metadata": {},
   "outputs": [],
   "source": [
    "import numpy as np\n",
    "from scipy import stats\n",
    "import matplotlib.pyplot as plt\n",
    "rcParams['figure.figsize'] =10, 7\n",
    "\n",
    "# define your distributions\n",
    "d1 = stats.norm(4, 2)\n",
    "d2 = stats.norm(7, 0.5)\n",
    "\n",
    "# set mixture component weights\n",
    "mc = [0.5, 0.5]\n",
    "mc = mc / np.sum(mc) # ensuring they sum to 1\n",
    "\n",
    "# where to evaluate the densities\n",
    "x = np.linspace(-2, 12, 100)\n",
    "# calculate density and apply mixture weights\n",
    "c1 = d1.pdf(x) * mc[0]\n",
    "c2 = d2.pdf(x) * mc[1]\n",
    "\n",
    "\n",
    "def gaussian(x, mu, sigma):\n",
    "    return 1./(np.sqrt(2.*np.pi)*sigma)*np.exp(-np.power((x - mu)/sigma, 2.)/2)\n",
    "c1 = gaussian(x, 6, 1)\n",
    "c2 = gaussian(x, 6.5, 1)\n",
    "c3 = gaussian(x, 7, 1)\n",
    "sum_y1 = (1/5)*(gaussian(x, 2, 1)+gaussian(x, 2.5, 1)+gaussian(x, 3, 1)+gaussian(x, 1, 1)+gaussian(x, 6, 1))\n",
    "sum_y2 = (1/3)*(c1 + c2 + c3)\n",
    "\n",
    "# plot everything\n",
    "plt.plot(x, sum_y1, label=r'$P(X|\\theta=1)$')\n",
    "# plt.plot(x, c2, label='Component 2')\n",
    "plt.plot(x,sum_y2, label=r'$P(X|\\theta=2)$')\n",
    "# plt.axvline(4.5, c='k')\n",
    "# plt.fill_between(x, 0, sum_y1)\n",
    "# plt.fill_between(x, 0, sum_y1, where=x>=4.5)\n",
    "# plt.fill_between(x, 0, sum_y2, where=x<=4.64)\n",
    "plt.xlabel(r'$X$',fontsize=20)\n",
    "plt.ylabel(r'$f_{X|\\theta}(x|\\theta)$',fontsize=20)\n",
    "# plt.title(r'Joint PDF $f_{X|\\theta}(x|\\theta)$',fontsize=20)\n",
    "# plt.text(-1, 0.25, r'$P(error|\\theta=2)$', fontsize=15)\n",
    "# plt.text(8, 0.25, r'$P(error|\\theta=1)$', fontsize=15)\n",
    "plt.title(r'Parzen-window',fontsize=20)\n",
    "plt.legend(prop={'size': 15})\n",
    "plt.ylim(0, 0.4)\n",
    "plt.show()"
   ]
  }
 ],
 "metadata": {
  "kernelspec": {
   "display_name": "Python 3",
   "language": "python",
   "name": "python3"
  },
  "language_info": {
   "codemirror_mode": {
    "name": "ipython",
    "version": 3
   },
   "file_extension": ".py",
   "mimetype": "text/x-python",
   "name": "python",
   "nbconvert_exporter": "python",
   "pygments_lexer": "ipython3",
   "version": "3.7.6"
  }
 },
 "nbformat": 4,
 "nbformat_minor": 2
}
